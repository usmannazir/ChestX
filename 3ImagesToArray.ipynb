{
 "cells": [
  {
   "cell_type": "code",
   "execution_count": 2,
   "metadata": {},
   "outputs": [],
   "source": [
    "import time\n",
    "import cv2\n",
    "import numpy as np\n",
    "import pandas as pd"
   ]
  },
  {
   "cell_type": "code",
   "execution_count": 3,
   "metadata": {},
   "outputs": [],
   "source": [
    "#import tensorflow as tf\n",
    "#config = tf.ConfigProto()\n",
    "#config.gpu_options.allow_growth = True"
   ]
  },
  {
   "cell_type": "code",
   "execution_count": 4,
   "metadata": {},
   "outputs": [],
   "source": [
    "def convert_images_to_arrays(file_path, df):\n",
    "    \"\"\"\n",
    "    Converts each image to an array, and appends each array to a new NumPy\n",
    "    array, based on the image column equaling the image file name.\n",
    "\n",
    "    INPUT\n",
    "        file_path: Specified file path for resized test and train images.\n",
    "        df: Pandas DataFrame being used to assist file imports.\n",
    "\n",
    "    OUTPUT\n",
    "        NumPy array of image arrays.\n",
    "    \"\"\"\n",
    "\n",
    "    lst_imgs = [l for l in df['Image_Index']]\n",
    "\n",
    "    return np.array([np.array(cv2.imread(file_path + img, cv2.IMREAD_GRAYSCALE)) for img in lst_imgs])\n",
    "\n",
    "\n",
    "def save_to_array(arr_name, arr_object):\n",
    "    \"\"\"\n",
    "    Saves data object as a NumPy file. Used for saving train and test arrays.\n",
    "\n",
    "    INPUT\n",
    "        arr_name: The name of the file you want to save.\n",
    "            This input takes a directory string.\n",
    "        arr_object: NumPy array of arrays. This object is saved as a NumPy file.\n",
    "    \"\"\"\n",
    "    return np.save(arr_name, arr_object)"
   ]
  },
  {
   "cell_type": "code",
   "execution_count": null,
   "metadata": {},
   "outputs": [
    {
     "name": "stdout",
     "output_type": "stream",
     "text": [
      "Writing Train Array\n"
     ]
    }
   ],
   "source": [
    "if __name__ == '__main__':\n",
    "    start_time = time.time()\n",
    "    #sess = tf.Session(config = config)\n",
    "  \n",
    "\n",
    "    labels = pd.read_csv(\"sample_labels.csv\")\n",
    "\n",
    "    print(\"Writing Train Array\")\n",
    "    X_train = convert_images_to_arrays('resized-256/', labels)\n",
    "\n",
    "    print(X_train.shape)\n",
    "\n",
    "    print(\"Saving Train Array\")\n",
    "    save_to_array('X_sample.npy', X_train)\n",
    "\n",
    "    print(\"Seconds: \", round(time.time() - start_time), 2)\n"
   ]
  },
  {
   "cell_type": "code",
   "execution_count": null,
   "metadata": {},
   "outputs": [],
   "source": [
    "print(X_train)"
   ]
  },
  {
   "cell_type": "code",
   "execution_count": null,
   "metadata": {},
   "outputs": [],
   "source": []
  }
 ],
 "metadata": {
  "kernelspec": {
   "display_name": "Python 2",
   "language": "python",
   "name": "python2"
  },
  "language_info": {
   "codemirror_mode": {
    "name": "ipython",
    "version": 2
   },
   "file_extension": ".py",
   "mimetype": "text/x-python",
   "name": "python",
   "nbconvert_exporter": "python",
   "pygments_lexer": "ipython2",
   "version": "2.7.15rc1"
  }
 },
 "nbformat": 4,
 "nbformat_minor": 2
}
