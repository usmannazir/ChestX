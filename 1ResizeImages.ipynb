{
 "cells": [
  {
   "cell_type": "code",
   "execution_count": 1,
   "metadata": {},
   "outputs": [],
   "source": [
    "import cv2\n",
    "import os\n",
    "import time"
   ]
  },
  {
   "cell_type": "code",
   "execution_count": 2,
   "metadata": {},
   "outputs": [],
   "source": [
    "def create_directory(directory):\n",
    "    \"\"\"\n",
    "    Creates a new folder in the specified directory if folder doesn't exist.\n",
    "\n",
    "    INPUT\n",
    "        directory: Folder to be created, called as \"folder/\".\n",
    "\n",
    "    OUTPUT\n",
    "        New folder in the current directory.\n",
    "    \"\"\"\n",
    "    if not os.path.exists(directory):\n",
    "        os.makedirs(directory)\n",
    "\n",
    "\n",
    "def crop_and_resize_images(path, new_path, img_size):\n",
    "    \"\"\"\n",
    "    Crops, resizes, and stores all images from a directory in a new directory.\n",
    "\n",
    "    INPUT\n",
    "        path: Path where the current, unscaled images are contained.\n",
    "        new_path: Path to save the resized images.\n",
    "        img_size: New size for the rescaled images.\n",
    "\n",
    "\n",
    "    OUTPUT\n",
    "        All images cropped, resized, and saved to the new folder.\n",
    "    \"\"\"\n",
    "    create_directory(new_path)\n",
    "    dirs = [l for l in os.listdir(path) if l != '.DS_Store']\n",
    "    # total = 0\n",
    "\n",
    "    for item in dirs:\n",
    "        # Read in all images as grayscale\n",
    "        img = cv2.imread(path + item, cv2.IMREAD_GRAYSCALE)\n",
    "        if img is not None:\n",
    "            img = cv2.resize(img, (img_size, img_size))\n",
    "            cv2.imwrite(str(new_path + item), img)\n",
    "        else:\n",
    "            print(\"Image not loaded\")\n",
    "        # total += 1\n",
    "        # print(\"Saving: \", item, total)"
   ]
  },
  {
   "cell_type": "code",
   "execution_count": 3,
   "metadata": {},
   "outputs": [
    {
     "name": "stdout",
     "output_type": "stream",
     "text": [
      "Image not loaded\n",
      "Image not loaded\n",
      "('Seconds: ', 3641.633036851883)\n"
     ]
    }
   ],
   "source": [
    "if __name__ == '__main__':\n",
    "    start_time = time.time()\n",
    "    crop_and_resize_images(path='Images/', new_path='resized-256/', img_size=256)\n",
    "    print(\"Seconds: \", time.time() - start_time)"
   ]
  },
  {
   "cell_type": "code",
   "execution_count": null,
   "metadata": {
    "collapsed": true
   },
   "outputs": [],
   "source": []
  }
 ],
 "metadata": {
  "kernelspec": {
   "display_name": "Python 2",
   "language": "python",
   "name": "python2"
  },
  "language_info": {
   "codemirror_mode": {
    "name": "ipython",
    "version": 2
   },
   "file_extension": ".py",
   "mimetype": "text/x-python",
   "name": "python",
   "nbconvert_exporter": "python",
   "pygments_lexer": "ipython2",
   "version": "2.7.15rc1"
  }
 },
 "nbformat": 4,
 "nbformat_minor": 2
}
