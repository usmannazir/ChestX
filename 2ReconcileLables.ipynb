{
 "cells": [
  {
   "cell_type": "code",
   "execution_count": 1,
   "metadata": {},
   "outputs": [],
   "source": [
    "import os\n",
    "import pandas as pd"
   ]
  },
  {
   "cell_type": "code",
   "execution_count": 4,
   "metadata": {},
   "outputs": [],
   "source": [
    "def get_lst_images(file_path):\n",
    "    \"\"\"\n",
    "    Reads in all files from file path into a list.\n",
    "\n",
    "    INPUT\n",
    "        file_path: specified file path containing the images.\n",
    "\n",
    "    OUTPUT\n",
    "        List of image strings\n",
    "    \"\"\"\n",
    "    return [i for i in os.listdir(file_path) if i != '.DS_Store']\n",
    "\n"
   ]
  },
  {
   "cell_type": "code",
   "execution_count": 6,
   "metadata": {},
   "outputs": [
    {
     "name": "stdout",
     "output_type": "stream",
     "text": [
      "Writing CSV\n"
     ]
    }
   ],
   "source": [
    "if __name__ == '__main__':\n",
    "    data = pd.read_csv(\"Data_Entry_2017.csv\")\n",
    "    sample = os.listdir('resized-256/')\n",
    "\n",
    "    sample = pd.DataFrame({'Image Index': sample})\n",
    "\n",
    "    sample = pd.merge(sample, data, how='left', on='Image Index')\n",
    "\n",
    "    sample.columns = ['Image_Index', 'Finding_Labels','Original_labels','Follow_Up_#', 'Patient_ID',\n",
    "                      'Patient_Age', 'Patient_Gender', 'View_Position',\n",
    "                      'Original_Image_Width', 'Original_Image_Height',\n",
    "                      'Original_Image_Pixel_Spacing_X',\n",
    "                      'Original_Image_Pixel_Spacing_Y']\n",
    "\n",
    "    #sample['Finding_Labels'] = sample['Finding_Labels'].apply(lambda x: x.split('|')[0])\n",
    "\n",
    "    sample.drop(['Original_Image_Pixel_Spacing_X', 'Original_Image_Pixel_Spacing_Y'], axis=1, inplace=True)\n",
    "    sample.drop(['Original_Image_Width', 'Original_Image_Height'], axis=1, inplace=True)\n",
    "\n",
    "    print(\"Writing CSV\")\n",
    "    sample.to_csv('sample_labels.csv', index=False, header=True)"
   ]
  },
  {
   "cell_type": "code",
   "execution_count": null,
   "metadata": {},
   "outputs": [],
   "source": []
  },
  {
   "cell_type": "code",
   "execution_count": null,
   "metadata": {},
   "outputs": [],
   "source": []
  }
 ],
 "metadata": {
  "kernelspec": {
   "display_name": "Python 2",
   "language": "python",
   "name": "python2"
  },
  "language_info": {
   "codemirror_mode": {
    "name": "ipython",
    "version": 2
   },
   "file_extension": ".py",
   "mimetype": "text/x-python",
   "name": "python",
   "nbconvert_exporter": "python",
   "pygments_lexer": "ipython2",
   "version": "2.7.15rc1"
  }
 },
 "nbformat": 4,
 "nbformat_minor": 2
}
